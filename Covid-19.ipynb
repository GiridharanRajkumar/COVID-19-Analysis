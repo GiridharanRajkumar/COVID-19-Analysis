{
 "cells": [
  {
   "cell_type": "markdown",
   "id": "c892f10c",
   "metadata": {},
   "source": [
    "Analysing Covid-19 impact in INDIA"
   ]
  },
  {
   "cell_type": "code",
   "execution_count": 1,
   "id": "366b24ce",
   "metadata": {},
   "outputs": [
    {
     "name": "stdout",
     "output_type": "stream",
     "text": [
      "Requirement already satisfied: matplotlib in c:\\users\\girid\\anaconda3\\envs\\environment\\lib\\site-packages (3.7.1)\n",
      "Requirement already satisfied: fonttools>=4.22.0 in c:\\users\\girid\\anaconda3\\envs\\environment\\lib\\site-packages (from matplotlib) (4.39.4)\n",
      "Requirement already satisfied: contourpy>=1.0.1 in c:\\users\\girid\\anaconda3\\envs\\environment\\lib\\site-packages (from matplotlib) (1.0.7)\n",
      "Requirement already satisfied: pyparsing>=2.3.1 in c:\\users\\girid\\anaconda3\\envs\\environment\\lib\\site-packages (from matplotlib) (2.4.7)\n",
      "Requirement already satisfied: importlib-resources>=3.2.0; python_version < \"3.10\" in c:\\users\\girid\\anaconda3\\envs\\environment\\lib\\site-packages (from matplotlib) (5.2.0)\n",
      "Requirement already satisfied: packaging>=20.0 in c:\\users\\girid\\anaconda3\\envs\\environment\\lib\\site-packages (from matplotlib) (22.0)\n",
      "Requirement already satisfied: kiwisolver>=1.0.1 in c:\\users\\girid\\anaconda3\\envs\\environment\\lib\\site-packages (from matplotlib) (1.2.0)\n",
      "Requirement already satisfied: python-dateutil>=2.7 in c:\\users\\girid\\anaconda3\\envs\\environment\\lib\\site-packages (from matplotlib) (2.8.2)\n",
      "Requirement already satisfied: cycler>=0.10 in c:\\users\\girid\\anaconda3\\envs\\environment\\lib\\site-packages (from matplotlib) (0.10.0)\n",
      "Requirement already satisfied: pillow>=6.2.0 in c:\\users\\girid\\anaconda3\\envs\\environment\\lib\\site-packages (from matplotlib) (8.0.0)\n",
      "Requirement already satisfied: numpy>=1.20 in c:\\users\\girid\\anaconda3\\envs\\environment\\lib\\site-packages (from matplotlib) (1.24.3)\n",
      "Requirement already satisfied: zipp>=3.1.0; python_version < \"3.10\" in c:\\users\\girid\\anaconda3\\envs\\environment\\lib\\site-packages (from importlib-resources>=3.2.0; python_version < \"3.10\"->matplotlib) (3.11.0)\n",
      "Requirement already satisfied: six>=1.5 in c:\\users\\girid\\anaconda3\\envs\\environment\\lib\\site-packages (from python-dateutil>=2.7->matplotlib) (1.15.0)\n"
     ]
    }
   ],
   "source": [
    "# !pip install openpyxl\n",
    "# !pip install seaborn\n",
    "#!pip install plotly\n",
    "#!pip install matplotlib\n",
    "#!pip install pandas\n"
   ]
  },
  {
   "cell_type": "code",
   "execution_count": 18,
   "id": "e79a9538",
   "metadata": {},
   "outputs": [],
   "source": [
    "#importing the libraries\n",
    "import pandas as pd\n",
    "import numpy as np\n",
    "import openpyxl\n",
    "import matplotlib.pyplot as plt\n",
    "import seaborn as sns\n",
    "import plotly.express as px\n",
    "from plotly.subplots import make_subplots\n",
    "from datetime import datetime\n",
    "%matplotlib inline"
   ]
  },
  {
   "cell_type": "code",
   "execution_count": 19,
   "id": "5dd84e69",
   "metadata": {},
   "outputs": [],
   "source": [
    "#Importing the csv files\n",
    "covid_df=pd.read_csv(\"C:/Users/girid/Desktop/Covid-19/datasets/covid_19_india.csv\")\n",
    "vaccine_df=pd.read_csv(\"C:/Users/girid/Desktop/Covid-19/datasets/covid_vaccine_statewise.csv\")"
   ]
  },
  {
   "cell_type": "code",
   "execution_count": 20,
   "id": "3e36e08f",
   "metadata": {},
   "outputs": [],
   "source": [
    "#Droping ofcolumns\n",
    "covid_df.drop([\"Sno\",\"ConfirmedIndianNational\",\"ConfirmedForeignNational\",\"Time\"],inplace = True, axis =1)"
   ]
  },
  {
   "cell_type": "code",
   "execution_count": 21,
   "id": "2267e59e",
   "metadata": {},
   "outputs": [],
   "source": [
    "#Date format\n",
    "covid_df['Date'] = pd.to_datetime(covid_df['Date'], format = '%d-%m-%Y')"
   ]
  },
  {
   "cell_type": "code",
   "execution_count": 22,
   "id": "7fae3188",
   "metadata": {},
   "outputs": [],
   "source": [
    "#Active cases\n",
    "covid_df['Active cases'] = covid_df['Confirmed']-(covid_df['Cured']+covid_df['Deaths'])"
   ]
  },
  {
   "cell_type": "code",
   "execution_count": 23,
   "id": "7867aeb6",
   "metadata": {},
   "outputs": [],
   "source": [
    "#Creating pivot tables\n",
    "state = pd.pivot_table(covid_df,values = [\"Confirmed\",\"Cured\",\"Deaths\"], index =\"State/UnionTerritory\", aggfunc = max)"
   ]
  },
  {
   "cell_type": "code",
   "execution_count": 24,
   "id": "bf2bf8d2",
   "metadata": {},
   "outputs": [],
   "source": [
    "#Adding new column as recovery rate\n",
    "state[\"Recovery rate\"] = state[\"Cured\"]*100/state[\"Confirmed\"]"
   ]
  },
  {
   "cell_type": "code",
   "execution_count": 25,
   "id": "b75ee9ca",
   "metadata": {},
   "outputs": [],
   "source": [
    "#Adding new column as recovery rate\n",
    "state[\"mortality rate\"] = state[\"Deaths\"]*100/state[\"Confirmed\"]"
   ]
  },
  {
   "cell_type": "code",
   "execution_count": 26,
   "id": "fc0bb19b",
   "metadata": {},
   "outputs": [
    {
     "data": {
      "text/html": [
       "<style  type=\"text/css\" >\n",
       "#T_2e6f1_row0_col0,#T_2e6f1_row0_col1,#T_2e6f1_row0_col2,#T_2e6f1_row20_col4,#T_2e6f1_row39_col3{\n",
       "            background-color:  #ffffff;\n",
       "            color:  #000000;\n",
       "        }#T_2e6f1_row0_col3,#T_2e6f1_row31_col3{\n",
       "            background-color:  #f0fbf5;\n",
       "            color:  #000000;\n",
       "        }#T_2e6f1_row0_col4{\n",
       "            background-color:  #c3bff2;\n",
       "            color:  #000000;\n",
       "        }#T_2e6f1_row1_col0,#T_2e6f1_row3_col3,#T_2e6f1_row4_col3,#T_2e6f1_row5_col3,#T_2e6f1_row24_col3,#T_2e6f1_row27_col3,#T_2e6f1_row28_col3,#T_2e6f1_row29_col3{\n",
       "            background-color:  #f6fcf8;\n",
       "            color:  #000000;\n",
       "        }#T_2e6f1_row1_col1,#T_2e6f1_row1_col2,#T_2e6f1_row20_col3,#T_2e6f1_row26_col3{\n",
       "            background-color:  #f4fcf7;\n",
       "            color:  #000000;\n",
       "        }#T_2e6f1_row1_col3{\n",
       "            background-color:  #effaf4;\n",
       "            color:  #000000;\n",
       "        }#T_2e6f1_row1_col4{\n",
       "            background-color:  #c4bdf1;\n",
       "            color:  #000000;\n",
       "        }#T_2e6f1_row2_col0{\n",
       "            background-color:  #c57a76;\n",
       "            color:  #000000;\n",
       "        }#T_2e6f1_row2_col1{\n",
       "            background-color:  #bf796d;\n",
       "            color:  #000000;\n",
       "        }#T_2e6f1_row2_col2,#T_2e6f1_row8_col2,#T_2e6f1_row35_col4{\n",
       "            background-color:  #1a213e;\n",
       "            color:  #f1f1f1;\n",
       "        }#T_2e6f1_row2_col3,#T_2e6f1_row34_col3{\n",
       "            background-color:  #e7f8f1;\n",
       "            color:  #000000;\n",
       "        }#T_2e6f1_row2_col4,#T_2e6f1_row9_col2{\n",
       "            background-color:  #17364c;\n",
       "            color:  #f1f1f1;\n",
       "        }#T_2e6f1_row3_col0,#T_2e6f1_row4_col1,#T_2e6f1_row4_col4,#T_2e6f1_row16_col4{\n",
       "            background-color:  #817a37;\n",
       "            color:  #000000;\n",
       "        }#T_2e6f1_row3_col1,#T_2e6f1_row3_col4{\n",
       "            background-color:  #847a38;\n",
       "            color:  #000000;\n",
       "        }#T_2e6f1_row3_col2,#T_2e6f1_row7_col1{\n",
       "            background-color:  #195d48;\n",
       "            color:  #f1f1f1;\n",
       "        }#T_2e6f1_row4_col0{\n",
       "            background-color:  #7e7a36;\n",
       "            color:  #000000;\n",
       "        }#T_2e6f1_row4_col2{\n",
       "            background-color:  #185b48;\n",
       "            color:  #f1f1f1;\n",
       "        }#T_2e6f1_row5_col0{\n",
       "            background-color:  #577a2f;\n",
       "            color:  #000000;\n",
       "        }#T_2e6f1_row5_col1{\n",
       "            background-color:  #5a7a2f;\n",
       "            color:  #000000;\n",
       "        }#T_2e6f1_row5_col2{\n",
       "            background-color:  #16554b;\n",
       "            color:  #f1f1f1;\n",
       "        }#T_2e6f1_row5_col4,#T_2e6f1_row7_col4,#T_2e6f1_row17_col4{\n",
       "            background-color:  #997944;\n",
       "            color:  #000000;\n",
       "        }#T_2e6f1_row6_col0{\n",
       "            background-color:  #22693f;\n",
       "            color:  #f1f1f1;\n",
       "        }#T_2e6f1_row6_col1{\n",
       "            background-color:  #256b3d;\n",
       "            color:  #f1f1f1;\n",
       "        }#T_2e6f1_row6_col2,#T_2e6f1_row10_col2{\n",
       "            background-color:  #1a142f;\n",
       "            color:  #f1f1f1;\n",
       "        }#T_2e6f1_row6_col3,#T_2e6f1_row7_col3,#T_2e6f1_row10_col3,#T_2e6f1_row13_col3,#T_2e6f1_row14_col3,#T_2e6f1_row15_col3,#T_2e6f1_row16_col3,#T_2e6f1_row17_col3,#T_2e6f1_row23_col3,#T_2e6f1_row33_col3,#T_2e6f1_row38_col3{\n",
       "            background-color:  #fafdfb;\n",
       "            color:  #000000;\n",
       "        }#T_2e6f1_row6_col4{\n",
       "            background-color:  #16534c;\n",
       "            color:  #f1f1f1;\n",
       "        }#T_2e6f1_row7_col0{\n",
       "            background-color:  #175a49;\n",
       "            color:  #f1f1f1;\n",
       "        }#T_2e6f1_row7_col2{\n",
       "            background-color:  #182f49;\n",
       "            color:  #f1f1f1;\n",
       "        }#T_2e6f1_row8_col0{\n",
       "            background-color:  #154e4d;\n",
       "            color:  #f1f1f1;\n",
       "        }#T_2e6f1_row8_col1,#T_2e6f1_row11_col4{\n",
       "            background-color:  #15504d;\n",
       "            color:  #f1f1f1;\n",
       "        }#T_2e6f1_row8_col3,#T_2e6f1_row9_col3,#T_2e6f1_row11_col3,#T_2e6f1_row18_col3,#T_2e6f1_row19_col3,#T_2e6f1_row25_col3,#T_2e6f1_row43_col3{\n",
       "            background-color:  #f8fdfa;\n",
       "            color:  #000000;\n",
       "        }#T_2e6f1_row8_col4{\n",
       "            background-color:  #6f7b31;\n",
       "            color:  #000000;\n",
       "        }#T_2e6f1_row9_col0{\n",
       "            background-color:  #15474e;\n",
       "            color:  #f1f1f1;\n",
       "        }#T_2e6f1_row9_col1{\n",
       "            background-color:  #15494e;\n",
       "            color:  #f1f1f1;\n",
       "        }#T_2e6f1_row9_col4{\n",
       "            background-color:  #d588b5;\n",
       "            color:  #000000;\n",
       "        }#T_2e6f1_row10_col0,#T_2e6f1_row11_col1{\n",
       "            background-color:  #192a46;\n",
       "            color:  #f1f1f1;\n",
       "        }#T_2e6f1_row10_col1{\n",
       "            background-color:  #192c47;\n",
       "            color:  #f1f1f1;\n",
       "        }#T_2e6f1_row10_col4{\n",
       "            background-color:  #9c7946;\n",
       "            color:  #000000;\n",
       "        }#T_2e6f1_row11_col0,#T_2e6f1_row12_col1{\n",
       "            background-color:  #192845;\n",
       "            color:  #f1f1f1;\n",
       "        }#T_2e6f1_row11_col2,#T_2e6f1_row25_col0{\n",
       "            background-color:  #110815;\n",
       "            color:  #f1f1f1;\n",
       "        }#T_2e6f1_row12_col0{\n",
       "            background-color:  #1a2744;\n",
       "            color:  #f1f1f1;\n",
       "        }#T_2e6f1_row12_col2,#T_2e6f1_row22_col0{\n",
       "            background-color:  #160c1f;\n",
       "            color:  #f1f1f1;\n",
       "        }#T_2e6f1_row12_col3,#T_2e6f1_row40_col3,#T_2e6f1_row41_col3{\n",
       "            background-color:  #fbfefc;\n",
       "            color:  #000000;\n",
       "        }#T_2e6f1_row12_col4,#T_2e6f1_row21_col4{\n",
       "            background-color:  #317236;\n",
       "            color:  #f1f1f1;\n",
       "        }#T_2e6f1_row13_col0,#T_2e6f1_row13_col1{\n",
       "            background-color:  #1b1f3d;\n",
       "            color:  #f1f1f1;\n",
       "        }#T_2e6f1_row13_col2{\n",
       "            background-color:  #170e23;\n",
       "            color:  #f1f1f1;\n",
       "        }#T_2e6f1_row13_col4{\n",
       "            background-color:  #787b34;\n",
       "            color:  #000000;\n",
       "        }#T_2e6f1_row14_col0,#T_2e6f1_row15_col0,#T_2e6f1_row16_col1,#T_2e6f1_row20_col2{\n",
       "            background-color:  #1b1c3a;\n",
       "            color:  #f1f1f1;\n",
       "        }#T_2e6f1_row14_col1,#T_2e6f1_row15_col1{\n",
       "            background-color:  #1b1e3b;\n",
       "            color:  #f1f1f1;\n",
       "        }#T_2e6f1_row14_col2,#T_2e6f1_row15_col2{\n",
       "            background-color:  #180f25;\n",
       "            color:  #f1f1f1;\n",
       "        }#T_2e6f1_row14_col4,#T_2e6f1_row15_col4,#T_2e6f1_row18_col4{\n",
       "            background-color:  #967a42;\n",
       "            color:  #000000;\n",
       "        }#T_2e6f1_row16_col0{\n",
       "            background-color:  #1b1b38;\n",
       "            color:  #f1f1f1;\n",
       "        }#T_2e6f1_row16_col2,#T_2e6f1_row17_col2,#T_2e6f1_row18_col2{\n",
       "            background-color:  #160d21;\n",
       "            color:  #f1f1f1;\n",
       "        }#T_2e6f1_row17_col0,#T_2e6f1_row17_col1,#T_2e6f1_row18_col1{\n",
       "            background-color:  #1b1a36;\n",
       "            color:  #f1f1f1;\n",
       "        }#T_2e6f1_row18_col0{\n",
       "            background-color:  #1a1835;\n",
       "            color:  #f1f1f1;\n",
       "        }#T_2e6f1_row19_col0,#T_2e6f1_row19_col1{\n",
       "            background-color:  #1a1631;\n",
       "            color:  #f1f1f1;\n",
       "        }#T_2e6f1_row19_col2{\n",
       "            background-color:  #0b040c;\n",
       "            color:  #f1f1f1;\n",
       "        }#T_2e6f1_row19_col4{\n",
       "            background-color:  #15444f;\n",
       "            color:  #f1f1f1;\n",
       "        }#T_2e6f1_row20_col0,#T_2e6f1_row20_col1{\n",
       "            background-color:  #19132d;\n",
       "            color:  #f1f1f1;\n",
       "        }#T_2e6f1_row21_col0,#T_2e6f1_row21_col1{\n",
       "            background-color:  #19122b;\n",
       "            color:  #f1f1f1;\n",
       "        }#T_2e6f1_row21_col2{\n",
       "            background-color:  #0f0611;\n",
       "            color:  #f1f1f1;\n",
       "        }#T_2e6f1_row21_col3{\n",
       "            background-color:  #f2fbf6;\n",
       "            color:  #000000;\n",
       "        }#T_2e6f1_row22_col1{\n",
       "            background-color:  #140a1b;\n",
       "            color:  #f1f1f1;\n",
       "        }#T_2e6f1_row22_col2,#T_2e6f1_row29_col0,#T_2e6f1_row29_col1,#T_2e6f1_row30_col0,#T_2e6f1_row30_col1{\n",
       "            background-color:  #070206;\n",
       "            color:  #f1f1f1;\n",
       "        }#T_2e6f1_row22_col3{\n",
       "            background-color:  #c2d2f3;\n",
       "            color:  #000000;\n",
       "        }#T_2e6f1_row22_col4{\n",
       "            background-color:  #16394d;\n",
       "            color:  #f1f1f1;\n",
       "        }#T_2e6f1_row23_col0,#T_2e6f1_row24_col0,#T_2e6f1_row24_col1,#T_2e6f1_row25_col1{\n",
       "            background-color:  #120817;\n",
       "            color:  #f1f1f1;\n",
       "        }#T_2e6f1_row23_col1,#T_2e6f1_row24_col2{\n",
       "            background-color:  #130919;\n",
       "            color:  #f1f1f1;\n",
       "        }#T_2e6f1_row23_col2{\n",
       "            background-color:  #0e050f;\n",
       "            color:  #f1f1f1;\n",
       "        }#T_2e6f1_row23_col4{\n",
       "            background-color:  #b97964;\n",
       "            color:  #000000;\n",
       "        }#T_2e6f1_row24_col4{\n",
       "            background-color:  #c2c6f3;\n",
       "            color:  #000000;\n",
       "        }#T_2e6f1_row25_col2,#T_2e6f1_row26_col0,#T_2e6f1_row26_col1,#T_2e6f1_row27_col0,#T_2e6f1_row27_col1{\n",
       "            background-color:  #0c050e;\n",
       "            color:  #f1f1f1;\n",
       "        }#T_2e6f1_row25_col4{\n",
       "            background-color:  #9f7948;\n",
       "            color:  #000000;\n",
       "        }#T_2e6f1_row26_col2,#T_2e6f1_row27_col2,#T_2e6f1_row28_col0,#T_2e6f1_row28_col1,#T_2e6f1_row28_col2{\n",
       "            background-color:  #0a030a;\n",
       "            color:  #f1f1f1;\n",
       "        }#T_2e6f1_row26_col4,#T_2e6f1_row32_col4{\n",
       "            background-color:  #d383a6;\n",
       "            color:  #000000;\n",
       "        }#T_2e6f1_row27_col4{\n",
       "            background-color:  #d485ac;\n",
       "            color:  #000000;\n",
       "        }#T_2e6f1_row28_col4{\n",
       "            background-color:  #d392cb;\n",
       "            color:  #000000;\n",
       "        }#T_2e6f1_row29_col2,#T_2e6f1_row30_col2,#T_2e6f1_row31_col0,#T_2e6f1_row31_col1,#T_2e6f1_row39_col4,#T_2e6f1_row40_col4{\n",
       "            background-color:  #050205;\n",
       "            color:  #f1f1f1;\n",
       "        }#T_2e6f1_row29_col4{\n",
       "            background-color:  #bc7967;\n",
       "            color:  #000000;\n",
       "        }#T_2e6f1_row30_col3,#T_2e6f1_row32_col3{\n",
       "            background-color:  #dbf3ef;\n",
       "            color:  #000000;\n",
       "        }#T_2e6f1_row30_col4{\n",
       "            background-color:  #ca7c83;\n",
       "            color:  #000000;\n",
       "        }#T_2e6f1_row31_col2,#T_2e6f1_row33_col2,#T_2e6f1_row34_col1,#T_2e6f1_row35_col0,#T_2e6f1_row35_col1,#T_2e6f1_row36_col0,#T_2e6f1_row36_col1,#T_2e6f1_row36_col2,#T_2e6f1_row37_col0,#T_2e6f1_row37_col1{\n",
       "            background-color:  #020102;\n",
       "            color:  #f1f1f1;\n",
       "        }#T_2e6f1_row31_col4{\n",
       "            background-color:  #357435;\n",
       "            color:  #f1f1f1;\n",
       "        }#T_2e6f1_row32_col0,#T_2e6f1_row32_col1,#T_2e6f1_row32_col2,#T_2e6f1_row33_col0,#T_2e6f1_row33_col1,#T_2e6f1_row34_col0{\n",
       "            background-color:  #030103;\n",
       "            color:  #f1f1f1;\n",
       "        }#T_2e6f1_row33_col4{\n",
       "            background-color:  #937a40;\n",
       "            color:  #000000;\n",
       "        }#T_2e6f1_row34_col2,#T_2e6f1_row35_col2,#T_2e6f1_row37_col2,#T_2e6f1_row38_col0,#T_2e6f1_row38_col1,#T_2e6f1_row38_col2,#T_2e6f1_row39_col0,#T_2e6f1_row39_col1,#T_2e6f1_row39_col2,#T_2e6f1_row40_col0,#T_2e6f1_row40_col1,#T_2e6f1_row40_col2,#T_2e6f1_row41_col0,#T_2e6f1_row41_col1,#T_2e6f1_row41_col2,#T_2e6f1_row42_col0,#T_2e6f1_row42_col1,#T_2e6f1_row42_col2,#T_2e6f1_row42_col3,#T_2e6f1_row42_col4,#T_2e6f1_row43_col0,#T_2e6f1_row43_col1,#T_2e6f1_row43_col2,#T_2e6f1_row44_col0,#T_2e6f1_row44_col1,#T_2e6f1_row44_col2,#T_2e6f1_row44_col3,#T_2e6f1_row44_col4,#T_2e6f1_row45_col0,#T_2e6f1_row45_col1,#T_2e6f1_row45_col2,#T_2e6f1_row45_col3,#T_2e6f1_row45_col4{\n",
       "            background-color:  #000000;\n",
       "            color:  #f1f1f1;\n",
       "        }#T_2e6f1_row34_col4,#T_2e6f1_row41_col4{\n",
       "            background-color:  #17344c;\n",
       "            color:  #f1f1f1;\n",
       "        }#T_2e6f1_row35_col3{\n",
       "            background-color:  #caa9e7;\n",
       "            color:  #000000;\n",
       "        }#T_2e6f1_row36_col3{\n",
       "            background-color:  #e0f5f0;\n",
       "            color:  #000000;\n",
       "        }#T_2e6f1_row36_col4{\n",
       "            background-color:  #c8b1ec;\n",
       "            color:  #000000;\n",
       "        }#T_2e6f1_row37_col3{\n",
       "            background-color:  #d1edef;\n",
       "            color:  #000000;\n",
       "        }#T_2e6f1_row37_col4{\n",
       "            background-color:  #877a3a;\n",
       "            color:  #000000;\n",
       "        }#T_2e6f1_row38_col4{\n",
       "            background-color:  #417731;\n",
       "            color:  #f1f1f1;\n",
       "        }#T_2e6f1_row43_col4{\n",
       "            background-color:  #d484a9;\n",
       "            color:  #000000;\n",
       "        }</style><table id=\"T_2e6f1_\" ><thead>    <tr>        <th class=\"blank level0\" ></th>        <th class=\"col_heading level0 col0\" >Confirmed</th>        <th class=\"col_heading level0 col1\" >Cured</th>        <th class=\"col_heading level0 col2\" >Deaths</th>        <th class=\"col_heading level0 col3\" >Recovery rate</th>        <th class=\"col_heading level0 col4\" >mortality rate</th>    </tr>    <tr>        <th class=\"index_name level0\" >State/UnionTerritory</th>        <th class=\"blank\" ></th>        <th class=\"blank\" ></th>        <th class=\"blank\" ></th>        <th class=\"blank\" ></th>        <th class=\"blank\" ></th>    </tr></thead><tbody>\n",
       "                <tr>\n",
       "                        <th id=\"T_2e6f1_level0_row0\" class=\"row_heading level0 row0\" >Maharashtra</th>\n",
       "                        <td id=\"T_2e6f1_row0_col0\" class=\"data row0 col0\" >6363442</td>\n",
       "                        <td id=\"T_2e6f1_row0_col1\" class=\"data row0 col1\" >6159676</td>\n",
       "                        <td id=\"T_2e6f1_row0_col2\" class=\"data row0 col2\" >134201</td>\n",
       "                        <td id=\"T_2e6f1_row0_col3\" class=\"data row0 col3\" >96.797865</td>\n",
       "                        <td id=\"T_2e6f1_row0_col4\" class=\"data row0 col4\" >2.108937</td>\n",
       "            </tr>\n",
       "            <tr>\n",
       "                        <th id=\"T_2e6f1_level0_row1\" class=\"row_heading level0 row1\" >Maharashtra***</th>\n",
       "                        <td id=\"T_2e6f1_row1_col0\" class=\"data row1 col0\" >6229596</td>\n",
       "                        <td id=\"T_2e6f1_row1_col1\" class=\"data row1 col1\" >6000911</td>\n",
       "                        <td id=\"T_2e6f1_row1_col2\" class=\"data row1 col2\" >130753</td>\n",
       "                        <td id=\"T_2e6f1_row1_col3\" class=\"data row1 col3\" >96.329056</td>\n",
       "                        <td id=\"T_2e6f1_row1_col4\" class=\"data row1 col4\" >2.098900</td>\n",
       "            </tr>\n",
       "            <tr>\n",
       "                        <th id=\"T_2e6f1_level0_row2\" class=\"row_heading level0 row2\" >Kerala</th>\n",
       "                        <td id=\"T_2e6f1_row2_col0\" class=\"data row2 col0\" >3586693</td>\n",
       "                        <td id=\"T_2e6f1_row2_col1\" class=\"data row2 col1\" >3396184</td>\n",
       "                        <td id=\"T_2e6f1_row2_col2\" class=\"data row2 col2\" >18004</td>\n",
       "                        <td id=\"T_2e6f1_row2_col3\" class=\"data row2 col3\" >94.688450</td>\n",
       "                        <td id=\"T_2e6f1_row2_col4\" class=\"data row2 col4\" >0.501967</td>\n",
       "            </tr>\n",
       "            <tr>\n",
       "                        <th id=\"T_2e6f1_level0_row3\" class=\"row_heading level0 row3\" >Karnataka</th>\n",
       "                        <td id=\"T_2e6f1_row3_col0\" class=\"data row3 col0\" >2921049</td>\n",
       "                        <td id=\"T_2e6f1_row3_col1\" class=\"data row3 col1\" >2861499</td>\n",
       "                        <td id=\"T_2e6f1_row3_col2\" class=\"data row3 col2\" >36848</td>\n",
       "                        <td id=\"T_2e6f1_row3_col3\" class=\"data row3 col3\" >97.961349</td>\n",
       "                        <td id=\"T_2e6f1_row3_col4\" class=\"data row3 col4\" >1.261465</td>\n",
       "            </tr>\n",
       "            <tr>\n",
       "                        <th id=\"T_2e6f1_level0_row4\" class=\"row_heading level0 row4\" >Karanataka</th>\n",
       "                        <td id=\"T_2e6f1_row4_col0\" class=\"data row4 col0\" >2885238</td>\n",
       "                        <td id=\"T_2e6f1_row4_col1\" class=\"data row4 col1\" >2821491</td>\n",
       "                        <td id=\"T_2e6f1_row4_col2\" class=\"data row4 col2\" >36197</td>\n",
       "                        <td id=\"T_2e6f1_row4_col3\" class=\"data row4 col3\" >97.790581</td>\n",
       "                        <td id=\"T_2e6f1_row4_col4\" class=\"data row4 col4\" >1.254559</td>\n",
       "            </tr>\n",
       "            <tr>\n",
       "                        <th id=\"T_2e6f1_level0_row5\" class=\"row_heading level0 row5\" >Tamil Nadu</th>\n",
       "                        <td id=\"T_2e6f1_row5_col0\" class=\"data row5 col0\" >2579130</td>\n",
       "                        <td id=\"T_2e6f1_row5_col1\" class=\"data row5 col1\" >2524400</td>\n",
       "                        <td id=\"T_2e6f1_row5_col2\" class=\"data row5 col2\" >34367</td>\n",
       "                        <td id=\"T_2e6f1_row5_col3\" class=\"data row5 col3\" >97.877967</td>\n",
       "                        <td id=\"T_2e6f1_row5_col4\" class=\"data row5 col4\" >1.332504</td>\n",
       "            </tr>\n",
       "            <tr>\n",
       "                        <th id=\"T_2e6f1_level0_row6\" class=\"row_heading level0 row6\" >Andhra Pradesh</th>\n",
       "                        <td id=\"T_2e6f1_row6_col0\" class=\"data row6 col0\" >1985182</td>\n",
       "                        <td id=\"T_2e6f1_row6_col1\" class=\"data row6 col1\" >1952736</td>\n",
       "                        <td id=\"T_2e6f1_row6_col2\" class=\"data row6 col2\" >13564</td>\n",
       "                        <td id=\"T_2e6f1_row6_col3\" class=\"data row6 col3\" >98.365591</td>\n",
       "                        <td id=\"T_2e6f1_row6_col4\" class=\"data row6 col4\" >0.683262</td>\n",
       "            </tr>\n",
       "            <tr>\n",
       "                        <th id=\"T_2e6f1_level0_row7\" class=\"row_heading level0 row7\" >Uttar Pradesh</th>\n",
       "                        <td id=\"T_2e6f1_row7_col0\" class=\"data row7 col0\" >1708812</td>\n",
       "                        <td id=\"T_2e6f1_row7_col1\" class=\"data row7 col1\" >1685492</td>\n",
       "                        <td id=\"T_2e6f1_row7_col2\" class=\"data row7 col2\" >22775</td>\n",
       "                        <td id=\"T_2e6f1_row7_col3\" class=\"data row7 col3\" >98.635309</td>\n",
       "                        <td id=\"T_2e6f1_row7_col4\" class=\"data row7 col4\" >1.332797</td>\n",
       "            </tr>\n",
       "            <tr>\n",
       "                        <th id=\"T_2e6f1_level0_row8\" class=\"row_heading level0 row8\" >West Bengal</th>\n",
       "                        <td id=\"T_2e6f1_row8_col0\" class=\"data row8 col0\" >1534999</td>\n",
       "                        <td id=\"T_2e6f1_row8_col1\" class=\"data row8 col1\" >1506532</td>\n",
       "                        <td id=\"T_2e6f1_row8_col2\" class=\"data row8 col2\" >18252</td>\n",
       "                        <td id=\"T_2e6f1_row8_col3\" class=\"data row8 col3\" >98.145471</td>\n",
       "                        <td id=\"T_2e6f1_row8_col4\" class=\"data row8 col4\" >1.189056</td>\n",
       "            </tr>\n",
       "            <tr>\n",
       "                        <th id=\"T_2e6f1_level0_row9\" class=\"row_heading level0 row9\" >Delhi</th>\n",
       "                        <td id=\"T_2e6f1_row9_col0\" class=\"data row9 col0\" >1436852</td>\n",
       "                        <td id=\"T_2e6f1_row9_col1\" class=\"data row9 col1\" >1411280</td>\n",
       "                        <td id=\"T_2e6f1_row9_col2\" class=\"data row9 col2\" >25068</td>\n",
       "                        <td id=\"T_2e6f1_row9_col3\" class=\"data row9 col3\" >98.220276</td>\n",
       "                        <td id=\"T_2e6f1_row9_col4\" class=\"data row9 col4\" >1.744647</td>\n",
       "            </tr>\n",
       "            <tr>\n",
       "                        <th id=\"T_2e6f1_level0_row10\" class=\"row_heading level0 row10\" >Chhattisgarh</th>\n",
       "                        <td id=\"T_2e6f1_row10_col0\" class=\"data row10 col0\" >1003356</td>\n",
       "                        <td id=\"T_2e6f1_row10_col1\" class=\"data row10 col1\" >988189</td>\n",
       "                        <td id=\"T_2e6f1_row10_col2\" class=\"data row10 col2\" >13544</td>\n",
       "                        <td id=\"T_2e6f1_row10_col3\" class=\"data row10 col3\" >98.488373</td>\n",
       "                        <td id=\"T_2e6f1_row10_col4\" class=\"data row10 col4\" >1.349870</td>\n",
       "            </tr>\n",
       "            <tr>\n",
       "                        <th id=\"T_2e6f1_level0_row11\" class=\"row_heading level0 row11\" >Odisha</th>\n",
       "                        <td id=\"T_2e6f1_row11_col0\" class=\"data row11 col0\" >988997</td>\n",
       "                        <td id=\"T_2e6f1_row11_col1\" class=\"data row11 col1\" >972710</td>\n",
       "                        <td id=\"T_2e6f1_row11_col2\" class=\"data row11 col2\" >6565</td>\n",
       "                        <td id=\"T_2e6f1_row11_col3\" class=\"data row11 col3\" >98.353180</td>\n",
       "                        <td id=\"T_2e6f1_row11_col4\" class=\"data row11 col4\" >0.663804</td>\n",
       "            </tr>\n",
       "            <tr>\n",
       "                        <th id=\"T_2e6f1_level0_row12\" class=\"row_heading level0 row12\" >Rajasthan</th>\n",
       "                        <td id=\"T_2e6f1_row12_col0\" class=\"data row12 col0\" >953851</td>\n",
       "                        <td id=\"T_2e6f1_row12_col1\" class=\"data row12 col1\" >944700</td>\n",
       "                        <td id=\"T_2e6f1_row12_col2\" class=\"data row12 col2\" >8954</td>\n",
       "                        <td id=\"T_2e6f1_row12_col3\" class=\"data row12 col3\" >99.040626</td>\n",
       "                        <td id=\"T_2e6f1_row12_col4\" class=\"data row12 col4\" >0.938721</td>\n",
       "            </tr>\n",
       "            <tr>\n",
       "                        <th id=\"T_2e6f1_level0_row13\" class=\"row_heading level0 row13\" >Gujarat</th>\n",
       "                        <td id=\"T_2e6f1_row13_col0\" class=\"data row13 col0\" >825085</td>\n",
       "                        <td id=\"T_2e6f1_row13_col1\" class=\"data row13 col1\" >814802</td>\n",
       "                        <td id=\"T_2e6f1_row13_col2\" class=\"data row13 col2\" >10077</td>\n",
       "                        <td id=\"T_2e6f1_row13_col3\" class=\"data row13 col3\" >98.753704</td>\n",
       "                        <td id=\"T_2e6f1_row13_col4\" class=\"data row13 col4\" >1.221329</td>\n",
       "            </tr>\n",
       "            <tr>\n",
       "                        <th id=\"T_2e6f1_level0_row14\" class=\"row_heading level0 row14\" >Madhya Pradesh</th>\n",
       "                        <td id=\"T_2e6f1_row14_col0\" class=\"data row14 col0\" >791980</td>\n",
       "                        <td id=\"T_2e6f1_row14_col1\" class=\"data row14 col1\" >781330</td>\n",
       "                        <td id=\"T_2e6f1_row14_col2\" class=\"data row14 col2\" >10514</td>\n",
       "                        <td id=\"T_2e6f1_row14_col3\" class=\"data row14 col3\" >98.655269</td>\n",
       "                        <td id=\"T_2e6f1_row14_col4\" class=\"data row14 col4\" >1.327559</td>\n",
       "            </tr>\n",
       "            <tr>\n",
       "                        <th id=\"T_2e6f1_level0_row15\" class=\"row_heading level0 row15\" >Madhya Pradesh***</th>\n",
       "                        <td id=\"T_2e6f1_row15_col0\" class=\"data row15 col0\" >791656</td>\n",
       "                        <td id=\"T_2e6f1_row15_col1\" class=\"data row15 col1\" >780735</td>\n",
       "                        <td id=\"T_2e6f1_row15_col2\" class=\"data row15 col2\" >10506</td>\n",
       "                        <td id=\"T_2e6f1_row15_col3\" class=\"data row15 col3\" >98.620487</td>\n",
       "                        <td id=\"T_2e6f1_row15_col4\" class=\"data row15 col4\" >1.327092</td>\n",
       "            </tr>\n",
       "            <tr>\n",
       "                        <th id=\"T_2e6f1_level0_row16\" class=\"row_heading level0 row16\" >Haryana</th>\n",
       "                        <td id=\"T_2e6f1_row16_col0\" class=\"data row16 col0\" >770114</td>\n",
       "                        <td id=\"T_2e6f1_row16_col1\" class=\"data row16 col1\" >759790</td>\n",
       "                        <td id=\"T_2e6f1_row16_col2\" class=\"data row16 col2\" >9652</td>\n",
       "                        <td id=\"T_2e6f1_row16_col3\" class=\"data row16 col3\" >98.659419</td>\n",
       "                        <td id=\"T_2e6f1_row16_col4\" class=\"data row16 col4\" >1.253321</td>\n",
       "            </tr>\n",
       "            <tr>\n",
       "                        <th id=\"T_2e6f1_level0_row17\" class=\"row_heading level0 row17\" >Bihar</th>\n",
       "                        <td id=\"T_2e6f1_row17_col0\" class=\"data row17 col0\" >725279</td>\n",
       "                        <td id=\"T_2e6f1_row17_col1\" class=\"data row17 col1\" >715352</td>\n",
       "                        <td id=\"T_2e6f1_row17_col2\" class=\"data row17 col2\" >9646</td>\n",
       "                        <td id=\"T_2e6f1_row17_col3\" class=\"data row17 col3\" >98.631285</td>\n",
       "                        <td id=\"T_2e6f1_row17_col4\" class=\"data row17 col4\" >1.329971</td>\n",
       "            </tr>\n",
       "            <tr>\n",
       "                        <th id=\"T_2e6f1_level0_row18\" class=\"row_heading level0 row18\" >Bihar****</th>\n",
       "                        <td id=\"T_2e6f1_row18_col0\" class=\"data row18 col0\" >715730</td>\n",
       "                        <td id=\"T_2e6f1_row18_col1\" class=\"data row18 col1\" >701234</td>\n",
       "                        <td id=\"T_2e6f1_row18_col2\" class=\"data row18 col2\" >9452</td>\n",
       "                        <td id=\"T_2e6f1_row18_col3\" class=\"data row18 col3\" >97.974655</td>\n",
       "                        <td id=\"T_2e6f1_row18_col4\" class=\"data row18 col4\" >1.320610</td>\n",
       "            </tr>\n",
       "            <tr>\n",
       "                        <th id=\"T_2e6f1_level0_row19\" class=\"row_heading level0 row19\" >Telangana</th>\n",
       "                        <td id=\"T_2e6f1_row19_col0\" class=\"data row19 col0\" >650353</td>\n",
       "                        <td id=\"T_2e6f1_row19_col1\" class=\"data row19 col1\" >638410</td>\n",
       "                        <td id=\"T_2e6f1_row19_col2\" class=\"data row19 col2\" >3831</td>\n",
       "                        <td id=\"T_2e6f1_row19_col3\" class=\"data row19 col3\" >98.163613</td>\n",
       "                        <td id=\"T_2e6f1_row19_col4\" class=\"data row19 col4\" >0.589065</td>\n",
       "            </tr>\n",
       "            <tr>\n",
       "                        <th id=\"T_2e6f1_level0_row20\" class=\"row_heading level0 row20\" >Punjab</th>\n",
       "                        <td id=\"T_2e6f1_row20_col0\" class=\"data row20 col0\" >599573</td>\n",
       "                        <td id=\"T_2e6f1_row20_col1\" class=\"data row20 col1\" >582791</td>\n",
       "                        <td id=\"T_2e6f1_row20_col2\" class=\"data row20 col2\" >16322</td>\n",
       "                        <td id=\"T_2e6f1_row20_col3\" class=\"data row20 col3\" >97.201008</td>\n",
       "                        <td id=\"T_2e6f1_row20_col4\" class=\"data row20 col4\" >2.722271</td>\n",
       "            </tr>\n",
       "            <tr>\n",
       "                        <th id=\"T_2e6f1_level0_row21\" class=\"row_heading level0 row21\" >Assam</th>\n",
       "                        <td id=\"T_2e6f1_row21_col0\" class=\"data row21 col0\" >576149</td>\n",
       "                        <td id=\"T_2e6f1_row21_col1\" class=\"data row21 col1\" >559684</td>\n",
       "                        <td id=\"T_2e6f1_row21_col2\" class=\"data row21 col2\" >5420</td>\n",
       "                        <td id=\"T_2e6f1_row21_col3\" class=\"data row21 col3\" >97.142232</td>\n",
       "                        <td id=\"T_2e6f1_row21_col4\" class=\"data row21 col4\" >0.940729</td>\n",
       "            </tr>\n",
       "            <tr>\n",
       "                        <th id=\"T_2e6f1_level0_row22\" class=\"row_heading level0 row22\" >Telengana</th>\n",
       "                        <td id=\"T_2e6f1_row22_col0\" class=\"data row22 col0\" >443360</td>\n",
       "                        <td id=\"T_2e6f1_row22_col1\" class=\"data row22 col1\" >362160</td>\n",
       "                        <td id=\"T_2e6f1_row22_col2\" class=\"data row22 col2\" >2312</td>\n",
       "                        <td id=\"T_2e6f1_row22_col3\" class=\"data row22 col3\" >81.685312</td>\n",
       "                        <td id=\"T_2e6f1_row22_col4\" class=\"data row22 col4\" >0.521472</td>\n",
       "            </tr>\n",
       "            <tr>\n",
       "                        <th id=\"T_2e6f1_level0_row23\" class=\"row_heading level0 row23\" >Jharkhand</th>\n",
       "                        <td id=\"T_2e6f1_row23_col0\" class=\"data row23 col0\" >347440</td>\n",
       "                        <td id=\"T_2e6f1_row23_col1\" class=\"data row23 col1\" >342102</td>\n",
       "                        <td id=\"T_2e6f1_row23_col2\" class=\"data row23 col2\" >5130</td>\n",
       "                        <td id=\"T_2e6f1_row23_col3\" class=\"data row23 col3\" >98.463620</td>\n",
       "                        <td id=\"T_2e6f1_row23_col4\" class=\"data row23 col4\" >1.476514</td>\n",
       "            </tr>\n",
       "            <tr>\n",
       "                        <th id=\"T_2e6f1_level0_row24\" class=\"row_heading level0 row24\" >Uttarakhand</th>\n",
       "                        <td id=\"T_2e6f1_row24_col0\" class=\"data row24 col0\" >342462</td>\n",
       "                        <td id=\"T_2e6f1_row24_col1\" class=\"data row24 col1\" >334650</td>\n",
       "                        <td id=\"T_2e6f1_row24_col2\" class=\"data row24 col2\" >7368</td>\n",
       "                        <td id=\"T_2e6f1_row24_col3\" class=\"data row24 col3\" >97.718871</td>\n",
       "                        <td id=\"T_2e6f1_row24_col4\" class=\"data row24 col4\" >2.151480</td>\n",
       "            </tr>\n",
       "            <tr>\n",
       "                        <th id=\"T_2e6f1_level0_row25\" class=\"row_heading level0 row25\" >Jammu and Kashmir</th>\n",
       "                        <td id=\"T_2e6f1_row25_col0\" class=\"data row25 col0\" >322771</td>\n",
       "                        <td id=\"T_2e6f1_row25_col1\" class=\"data row25 col1\" >317081</td>\n",
       "                        <td id=\"T_2e6f1_row25_col2\" class=\"data row25 col2\" >4392</td>\n",
       "                        <td id=\"T_2e6f1_row25_col3\" class=\"data row25 col3\" >98.237140</td>\n",
       "                        <td id=\"T_2e6f1_row25_col4\" class=\"data row25 col4\" >1.360717</td>\n",
       "            </tr>\n",
       "            <tr>\n",
       "                        <th id=\"T_2e6f1_level0_row26\" class=\"row_heading level0 row26\" >Himachal Pradesh</th>\n",
       "                        <td id=\"T_2e6f1_row26_col0\" class=\"data row26 col0\" >208616</td>\n",
       "                        <td id=\"T_2e6f1_row26_col1\" class=\"data row26 col1\" >202761</td>\n",
       "                        <td id=\"T_2e6f1_row26_col2\" class=\"data row26 col2\" >3537</td>\n",
       "                        <td id=\"T_2e6f1_row26_col3\" class=\"data row26 col3\" >97.193408</td>\n",
       "                        <td id=\"T_2e6f1_row26_col4\" class=\"data row26 col4\" >1.695460</td>\n",
       "            </tr>\n",
       "            <tr>\n",
       "                        <th id=\"T_2e6f1_level0_row27\" class=\"row_heading level0 row27\" >Himanchal Pradesh</th>\n",
       "                        <td id=\"T_2e6f1_row27_col0\" class=\"data row27 col0\" >204516</td>\n",
       "                        <td id=\"T_2e6f1_row27_col1\" class=\"data row27 col1\" >200040</td>\n",
       "                        <td id=\"T_2e6f1_row27_col2\" class=\"data row27 col2\" >3507</td>\n",
       "                        <td id=\"T_2e6f1_row27_col3\" class=\"data row27 col3\" >97.811418</td>\n",
       "                        <td id=\"T_2e6f1_row27_col4\" class=\"data row27 col4\" >1.714780</td>\n",
       "            </tr>\n",
       "            <tr>\n",
       "                        <th id=\"T_2e6f1_level0_row28\" class=\"row_heading level0 row28\" >Goa</th>\n",
       "                        <td id=\"T_2e6f1_row28_col0\" class=\"data row28 col0\" >172085</td>\n",
       "                        <td id=\"T_2e6f1_row28_col1\" class=\"data row28 col1\" >167978</td>\n",
       "                        <td id=\"T_2e6f1_row28_col2\" class=\"data row28 col2\" >3164</td>\n",
       "                        <td id=\"T_2e6f1_row28_col3\" class=\"data row28 col3\" >97.613389</td>\n",
       "                        <td id=\"T_2e6f1_row28_col4\" class=\"data row28 col4\" >1.838626</td>\n",
       "            </tr>\n",
       "            <tr>\n",
       "                        <th id=\"T_2e6f1_level0_row29\" class=\"row_heading level0 row29\" >Puducherry</th>\n",
       "                        <td id=\"T_2e6f1_row29_col0\" class=\"data row29 col0\" >121766</td>\n",
       "                        <td id=\"T_2e6f1_row29_col1\" class=\"data row29 col1\" >119115</td>\n",
       "                        <td id=\"T_2e6f1_row29_col2\" class=\"data row29 col2\" >1800</td>\n",
       "                        <td id=\"T_2e6f1_row29_col3\" class=\"data row29 col3\" >97.822873</td>\n",
       "                        <td id=\"T_2e6f1_row29_col4\" class=\"data row29 col4\" >1.478245</td>\n",
       "            </tr>\n",
       "            <tr>\n",
       "                        <th id=\"T_2e6f1_level0_row30\" class=\"row_heading level0 row30\" >Manipur</th>\n",
       "                        <td id=\"T_2e6f1_row30_col0\" class=\"data row30 col0\" >105424</td>\n",
       "                        <td id=\"T_2e6f1_row30_col1\" class=\"data row30 col1\" >96776</td>\n",
       "                        <td id=\"T_2e6f1_row30_col2\" class=\"data row30 col2\" >1664</td>\n",
       "                        <td id=\"T_2e6f1_row30_col3\" class=\"data row30 col3\" >91.796934</td>\n",
       "                        <td id=\"T_2e6f1_row30_col4\" class=\"data row30 col4\" >1.578388</td>\n",
       "            </tr>\n",
       "            <tr>\n",
       "                        <th id=\"T_2e6f1_level0_row31\" class=\"row_heading level0 row31\" >Tripura</th>\n",
       "                        <td id=\"T_2e6f1_row31_col0\" class=\"data row31 col0\" >80660</td>\n",
       "                        <td id=\"T_2e6f1_row31_col1\" class=\"data row31 col1\" >77811</td>\n",
       "                        <td id=\"T_2e6f1_row31_col2\" class=\"data row31 col2\" >773</td>\n",
       "                        <td id=\"T_2e6f1_row31_col3\" class=\"data row31 col3\" >96.467890</td>\n",
       "                        <td id=\"T_2e6f1_row31_col4\" class=\"data row31 col4\" >0.958344</td>\n",
       "            </tr>\n",
       "            <tr>\n",
       "                        <th id=\"T_2e6f1_level0_row32\" class=\"row_heading level0 row32\" >Meghalaya</th>\n",
       "                        <td id=\"T_2e6f1_row32_col0\" class=\"data row32 col0\" >69769</td>\n",
       "                        <td id=\"T_2e6f1_row32_col1\" class=\"data row32 col1\" >64157</td>\n",
       "                        <td id=\"T_2e6f1_row32_col2\" class=\"data row32 col2\" >1185</td>\n",
       "                        <td id=\"T_2e6f1_row32_col3\" class=\"data row32 col3\" >91.956313</td>\n",
       "                        <td id=\"T_2e6f1_row32_col4\" class=\"data row32 col4\" >1.698462</td>\n",
       "            </tr>\n",
       "            <tr>\n",
       "                        <th id=\"T_2e6f1_level0_row33\" class=\"row_heading level0 row33\" >Chandigarh</th>\n",
       "                        <td id=\"T_2e6f1_row33_col0\" class=\"data row33 col0\" >61992</td>\n",
       "                        <td id=\"T_2e6f1_row33_col1\" class=\"data row33 col1\" >61150</td>\n",
       "                        <td id=\"T_2e6f1_row33_col2\" class=\"data row33 col2\" >811</td>\n",
       "                        <td id=\"T_2e6f1_row33_col3\" class=\"data row33 col3\" >98.641760</td>\n",
       "                        <td id=\"T_2e6f1_row33_col4\" class=\"data row33 col4\" >1.308233</td>\n",
       "            </tr>\n",
       "            <tr>\n",
       "                        <th id=\"T_2e6f1_level0_row34\" class=\"row_heading level0 row34\" >Arunachal Pradesh</th>\n",
       "                        <td id=\"T_2e6f1_row34_col0\" class=\"data row34 col0\" >50605</td>\n",
       "                        <td id=\"T_2e6f1_row34_col1\" class=\"data row34 col1\" >47821</td>\n",
       "                        <td id=\"T_2e6f1_row34_col2\" class=\"data row34 col2\" >248</td>\n",
       "                        <td id=\"T_2e6f1_row34_col3\" class=\"data row34 col3\" >94.498567</td>\n",
       "                        <td id=\"T_2e6f1_row34_col4\" class=\"data row34 col4\" >0.490070</td>\n",
       "            </tr>\n",
       "            <tr>\n",
       "                        <th id=\"T_2e6f1_level0_row35\" class=\"row_heading level0 row35\" >Mizoram</th>\n",
       "                        <td id=\"T_2e6f1_row35_col0\" class=\"data row35 col0\" >46320</td>\n",
       "                        <td id=\"T_2e6f1_row35_col1\" class=\"data row35 col1\" >33722</td>\n",
       "                        <td id=\"T_2e6f1_row35_col2\" class=\"data row35 col2\" >171</td>\n",
       "                        <td id=\"T_2e6f1_row35_col3\" class=\"data row35 col3\" >72.802245</td>\n",
       "                        <td id=\"T_2e6f1_row35_col4\" class=\"data row35 col4\" >0.369171</td>\n",
       "            </tr>\n",
       "            <tr>\n",
       "                        <th id=\"T_2e6f1_level0_row36\" class=\"row_heading level0 row36\" >Nagaland</th>\n",
       "                        <td id=\"T_2e6f1_row36_col0\" class=\"data row36 col0\" >28811</td>\n",
       "                        <td id=\"T_2e6f1_row36_col1\" class=\"data row36 col1\" >26852</td>\n",
       "                        <td id=\"T_2e6f1_row36_col2\" class=\"data row36 col2\" >585</td>\n",
       "                        <td id=\"T_2e6f1_row36_col3\" class=\"data row36 col3\" >93.200514</td>\n",
       "                        <td id=\"T_2e6f1_row36_col4\" class=\"data row36 col4\" >2.030474</td>\n",
       "            </tr>\n",
       "            <tr>\n",
       "                        <th id=\"T_2e6f1_level0_row37\" class=\"row_heading level0 row37\" >Sikkim</th>\n",
       "                        <td id=\"T_2e6f1_row37_col0\" class=\"data row37 col0\" >28018</td>\n",
       "                        <td id=\"T_2e6f1_row37_col1\" class=\"data row37 col1\" >25095</td>\n",
       "                        <td id=\"T_2e6f1_row37_col2\" class=\"data row37 col2\" >356</td>\n",
       "                        <td id=\"T_2e6f1_row37_col3\" class=\"data row37 col3\" >89.567421</td>\n",
       "                        <td id=\"T_2e6f1_row37_col4\" class=\"data row37 col4\" >1.270612</td>\n",
       "            </tr>\n",
       "            <tr>\n",
       "                        <th id=\"T_2e6f1_level0_row38\" class=\"row_heading level0 row38\" >Ladakh</th>\n",
       "                        <td id=\"T_2e6f1_row38_col0\" class=\"data row38 col0\" >20411</td>\n",
       "                        <td id=\"T_2e6f1_row38_col1\" class=\"data row38 col1\" >20130</td>\n",
       "                        <td id=\"T_2e6f1_row38_col2\" class=\"data row38 col2\" >207</td>\n",
       "                        <td id=\"T_2e6f1_row38_col3\" class=\"data row38 col3\" >98.623291</td>\n",
       "                        <td id=\"T_2e6f1_row38_col4\" class=\"data row38 col4\" >1.014159</td>\n",
       "            </tr>\n",
       "            <tr>\n",
       "                        <th id=\"T_2e6f1_level0_row39\" class=\"row_heading level0 row39\" >Dadra and Nagar Haveli and Daman and Diu</th>\n",
       "                        <td id=\"T_2e6f1_row39_col0\" class=\"data row39 col0\" >10654</td>\n",
       "                        <td id=\"T_2e6f1_row39_col1\" class=\"data row39 col1\" >10646</td>\n",
       "                        <td id=\"T_2e6f1_row39_col2\" class=\"data row39 col2\" >4</td>\n",
       "                        <td id=\"T_2e6f1_row39_col3\" class=\"data row39 col3\" >99.924911</td>\n",
       "                        <td id=\"T_2e6f1_row39_col4\" class=\"data row39 col4\" >0.037545</td>\n",
       "            </tr>\n",
       "            <tr>\n",
       "                        <th id=\"T_2e6f1_level0_row40\" class=\"row_heading level0 row40\" >Dadra and Nagar Haveli</th>\n",
       "                        <td id=\"T_2e6f1_row40_col0\" class=\"data row40 col0\" >10377</td>\n",
       "                        <td id=\"T_2e6f1_row40_col1\" class=\"data row40 col1\" >10261</td>\n",
       "                        <td id=\"T_2e6f1_row40_col2\" class=\"data row40 col2\" >4</td>\n",
       "                        <td id=\"T_2e6f1_row40_col3\" class=\"data row40 col3\" >98.882143</td>\n",
       "                        <td id=\"T_2e6f1_row40_col4\" class=\"data row40 col4\" >0.038547</td>\n",
       "            </tr>\n",
       "            <tr>\n",
       "                        <th id=\"T_2e6f1_level0_row41\" class=\"row_heading level0 row41\" >Lakshadweep</th>\n",
       "                        <td id=\"T_2e6f1_row41_col0\" class=\"data row41 col0\" >10263</td>\n",
       "                        <td id=\"T_2e6f1_row41_col1\" class=\"data row41 col1\" >10165</td>\n",
       "                        <td id=\"T_2e6f1_row41_col2\" class=\"data row41 col2\" >51</td>\n",
       "                        <td id=\"T_2e6f1_row41_col3\" class=\"data row41 col3\" >99.045114</td>\n",
       "                        <td id=\"T_2e6f1_row41_col4\" class=\"data row41 col4\" >0.496931</td>\n",
       "            </tr>\n",
       "            <tr>\n",
       "                        <th id=\"T_2e6f1_level0_row42\" class=\"row_heading level0 row42\" >Cases being reassigned to states</th>\n",
       "                        <td id=\"T_2e6f1_row42_col0\" class=\"data row42 col0\" >9265</td>\n",
       "                        <td id=\"T_2e6f1_row42_col1\" class=\"data row42 col1\" >0</td>\n",
       "                        <td id=\"T_2e6f1_row42_col2\" class=\"data row42 col2\" >0</td>\n",
       "                        <td id=\"T_2e6f1_row42_col3\" class=\"data row42 col3\" >0.000000</td>\n",
       "                        <td id=\"T_2e6f1_row42_col4\" class=\"data row42 col4\" >0.000000</td>\n",
       "            </tr>\n",
       "            <tr>\n",
       "                        <th id=\"T_2e6f1_level0_row43\" class=\"row_heading level0 row43\" >Andaman and Nicobar Islands</th>\n",
       "                        <td id=\"T_2e6f1_row43_col0\" class=\"data row43 col0\" >7548</td>\n",
       "                        <td id=\"T_2e6f1_row43_col1\" class=\"data row43 col1\" >7412</td>\n",
       "                        <td id=\"T_2e6f1_row43_col2\" class=\"data row43 col2\" >129</td>\n",
       "                        <td id=\"T_2e6f1_row43_col3\" class=\"data row43 col3\" >98.198198</td>\n",
       "                        <td id=\"T_2e6f1_row43_col4\" class=\"data row43 col4\" >1.709062</td>\n",
       "            </tr>\n",
       "            <tr>\n",
       "                        <th id=\"T_2e6f1_level0_row44\" class=\"row_heading level0 row44\" >Unassigned</th>\n",
       "                        <td id=\"T_2e6f1_row44_col0\" class=\"data row44 col0\" >77</td>\n",
       "                        <td id=\"T_2e6f1_row44_col1\" class=\"data row44 col1\" >0</td>\n",
       "                        <td id=\"T_2e6f1_row44_col2\" class=\"data row44 col2\" >0</td>\n",
       "                        <td id=\"T_2e6f1_row44_col3\" class=\"data row44 col3\" >0.000000</td>\n",
       "                        <td id=\"T_2e6f1_row44_col4\" class=\"data row44 col4\" >0.000000</td>\n",
       "            </tr>\n",
       "            <tr>\n",
       "                        <th id=\"T_2e6f1_level0_row45\" class=\"row_heading level0 row45\" >Daman & Diu</th>\n",
       "                        <td id=\"T_2e6f1_row45_col0\" class=\"data row45 col0\" >2</td>\n",
       "                        <td id=\"T_2e6f1_row45_col1\" class=\"data row45 col1\" >0</td>\n",
       "                        <td id=\"T_2e6f1_row45_col2\" class=\"data row45 col2\" >0</td>\n",
       "                        <td id=\"T_2e6f1_row45_col3\" class=\"data row45 col3\" >0.000000</td>\n",
       "                        <td id=\"T_2e6f1_row45_col4\" class=\"data row45 col4\" >0.000000</td>\n",
       "            </tr>\n",
       "    </tbody></table>"
      ],
      "text/plain": [
       "<pandas.io.formats.style.Styler at 0x1895c5171f0>"
      ]
     },
     "execution_count": 26,
     "metadata": {},
     "output_type": "execute_result"
    }
   ],
   "source": [
    "#Sorting the values and changing the style\n",
    "state = state.sort_values(by = \"Confirmed\", ascending = False)\n",
    "state.style.background_gradient(cmap =\"cubehelix\")\n"
   ]
  },
  {
   "cell_type": "code",
   "execution_count": 27,
   "id": "0ff6e7f1",
   "metadata": {},
   "outputs": [
    {
     "data": {
      "text/plain": [
       "Text(0, 0.5, 'Active cases')"
      ]
     },
     "execution_count": 27,
     "metadata": {},
     "output_type": "execute_result"
    },
    {
     "data": {
      "image/png": "[encoded data removed]",
      "text/plain": [
       "<Figure size 1600x900 with 1 Axes>"
      ]
     },
     "metadata": {},
     "output_type": "display_data"
    }
   ],
   "source": [
    "#Top 10 Covid-19 cases\n",
    "top_10=covid_df.groupby(by =\"State/UnionTerritory\").max()[[\"Active cases\",\"Date\"]].sort_values(by =[\"Active cases\"], ascending = False).reset_index()\n",
    "fig= plt.figure(figsize=(16,9))\n",
    "plt.title(\"Top 10 active cases\")\n",
    "ax=sns.barplot(data = top_10.iloc[:10], x =\"State/UnionTerritory\", y =\"Active cases\")\n",
    "plt.xlabel(\"States\")\n",
    "plt.ylabel(\"Active cases\")"
   ]
  },
  {
   "cell_type": "code",
   "execution_count": 28,
   "id": "f93c48ea",
   "metadata": {
    "scrolled": false
   },
   "outputs": [
    {
     "data": {
      "text/plain": [
       "Text(0, 0.5, 'Death cases')"
      ]
     },
     "execution_count": 28,
     "metadata": {},
     "output_type": "execute_result"
    },
    {
     "data": {
      "image/png": "[encoded data removed]",
      "text/plain": [
       "<Figure size 1600x900 with 1 Axes>"
      ]
     },
     "metadata": {},
     "output_type": "display_data"
    }
   ],
   "source": [
    "#Top 10 Covid-19 deaths\n",
    "top_10_death=covid_df.groupby(by =\"State/UnionTerritory\").max()[[\"Deaths\",\"Date\"]].sort_values(by =[\"Deaths\"], ascending = False).reset_index()\n",
    "fig= plt.figure(figsize=(16,9))\n",
    "plt.title(\"Top 10 Deaths cases\")\n",
    "ax=sns.barplot(data = top_10_death.iloc[:10], x =\"State/UnionTerritory\", y =\"Deaths\", linewidth = 2)\n",
    "plt.xlabel(\"States\")\n",
    "plt.ylabel(\"Death cases\")"
   ]
  },
  {
   "cell_type": "code",
   "execution_count": 29,
   "id": "3e478d25",
   "metadata": {},
   "outputs": [
    {
     "data": {
      "image/png": "[encoded data removed]",
      "text/plain": [
       "<Figure size 1200x600 with 1 Axes>"
      ]
     },
     "metadata": {},
     "output_type": "display_data"
    }
   ],
   "source": [
    "#Date Vs Active Covid-19 cases\n",
    "fig = plt.figure(figsize = (12,6))\n",
    "ax = sns.lineplot(data= covid_df[covid_df['State/UnionTerritory'].isin(['Maharashtra','Kerala','Karnataka','Tamil Nadu','Andhra Pradesh'])],x = 'Date', y = 'Active cases', hue = 'State/UnionTerritory')"
   ]
  },
  {
   "cell_type": "code",
   "execution_count": 30,
   "id": "1d7e002d",
   "metadata": {},
   "outputs": [],
   "source": [
    "#Renaming the column name\n",
    "vaccine_df.rename(columns = {'Updated On':'Vaccine Date'},inplace = True)"
   ]
  },
  {
   "cell_type": "code",
   "execution_count": 31,
   "id": "b64ea742",
   "metadata": {},
   "outputs": [],
   "source": [
    "#Checking for sum of null values and removing the columns\n",
    "vaccine_df.isnull().sum()\n",
    "vacc=vaccine_df.drop(columns=['Sputnik V (Doses Administered)','AEFI','18-44 Years (Doses Administered)','45-60 Years (Doses Administered)','60+ Years (Doses Administered)'],axis=1)"
   ]
  },
  {
   "cell_type": "code",
   "execution_count": 32,
   "id": "ac6ecb2e",
   "metadata": {},
   "outputs": [
    {
     "data": {
      "application/vnd.plotly.v1+json": {
       "config": {
        "plotlyServerURL": "https://plot.ly"
       },
       "data": [
        {
         "domain": {
          "x": [
           0,
           1
          ],
          "y": [
           0,
           1
          ]
         },
         "hovertemplate": "label=%{label}<br>value=%{value}<extra></extra>",
         "labels": [
          "Male",
          "Female"
         ],
         "legendgroup": "",
         "name": "",
         "showlegend": true,
         "type": "pie",
         "values": [
          7138698858,
          6321628736
         ]
        }
       ],
       "layout": {
        "legend": {
         "tracegroupgap": 0
        },
        "template": {
         "data": {
          "bar": [
           {
            "error_x": {
             "color": "#2a3f5f"
            },
            "error_y": {
             "color": "#2a3f5f"
            },
            "marker": {
             "line": {
              "color": "#E5ECF6",
              "width": 0.5
             },
             "pattern": {
              "fillmode": "overlay",
              "size": 10,
              "solidity": 0.2
             }
            },
            "type": "bar"
           }
          ],
          "barpolar": [
           {
            "marker": {
             "line": {
              "color": "#E5ECF6",
              "width": 0.5
             },
             "pattern": {
              "fillmode": "overlay",
              "size": 10,
              "solidity": 0.2
             }
            },
            "type": "barpolar"
           }
          ],
          "carpet": [
           {
            "aaxis": {
             "endlinecolor": "#2a3f5f",
             "gridcolor": "white",
             "linecolor": "white",
             "minorgridcolor": "white",
             "startlinecolor": "#2a3f5f"
            },
            "baxis": {
             "endlinecolor": "#2a3f5f",
             "gridcolor": "white",
             "linecolor": "white",
             "minorgridcolor": "white",
             "startlinecolor": "#2a3f5f"
            },
            "type": "carpet"
           }
          ],
          "choropleth": [
           {
            "colorbar": {
             "outlinewidth": 0,
             "ticks": ""
            },
            "type": "choropleth"
           }
          ],
          "contour": [
           {
            "colorbar": {
             "outlinewidth": 0,
             "ticks": ""
            },
            "colorscale": [
             [
              0,
              "#0d0887"
             ],
             [
              0.1111111111111111,
              "#46039f"
             ],
             [
              0.2222222222222222,
              "#7201a8"
             ],
             [
              0.3333333333333333,
              "#9c179e"
             ],
             [
              0.4444444444444444,
              "#bd3786"
             ],
             [
              0.5555555555555556,
              "#d8576b"
             ],
             [
              0.6666666666666666,
              "#ed7953"
             ],
             [
              0.7777777777777778,
              "#fb9f3a"
             ],
             [
              0.8888888888888888,
              "#fdca26"
             ],
             [
              1,
              "#f0f921"
             ]
            ],
            "type": "contour"
           }
          ],
          "contourcarpet": [
           {
            "colorbar": {
             "outlinewidth": 0,
             "ticks": ""
            },
            "type": "contourcarpet"
           }
          ],
          "heatmap": [
           {
            "colorbar": {
             "outlinewidth": 0,
             "ticks": ""
            },
            "colorscale": [
             [
              0,
              "#0d0887"
             ],
             [
              0.1111111111111111,
              "#46039f"
             ],
             [
              0.2222222222222222,
              "#7201a8"
             ],
             [
              0.3333333333333333,
              "#9c179e"
             ],
             [
              0.4444444444444444,
              "#bd3786"
             ],
             [
              0.5555555555555556,
              "#d8576b"
             ],
             [
              0.6666666666666666,
              "#ed7953"
             ],
             [
              0.7777777777777778,
              "#fb9f3a"
             ],
             [
              0.8888888888888888,
              "#fdca26"
             ],
             [
              1,
              "#f0f921"
             ]
            ],
            "type": "heatmap"
           }
          ],
          "heatmapgl": [
           {
            "colorbar": {
             "outlinewidth": 0,
             "ticks": ""
            },
            "colorscale": [
             [
              0,
              "#0d0887"
             ],
             [
              0.1111111111111111,
              "#46039f"
             ],
             [
              0.2222222222222222,
              "#7201a8"
             ],
             [
              0.3333333333333333,
              "#9c179e"
             ],
             [
              0.4444444444444444,
              "#bd3786"
             ],
             [
              0.5555555555555556,
              "#d8576b"
             ],
             [
              0.6666666666666666,
              "#ed7953"
             ],
             [
              0.7777777777777778,
              "#fb9f3a"
             ],
             [
              0.8888888888888888,
              "#fdca26"
             ],
             [
              1,
              "#f0f921"
             ]
            ],
            "type": "heatmapgl"
           }
          ],
          "histogram": [
           {
            "marker": {
             "pattern": {
              "fillmode": "overlay",
              "size": 10,
              "solidity": 0.2
             }
            },
            "type": "histogram"
           }
          ],
          "histogram2d": [
           {
            "colorbar": {
             "outlinewidth": 0,
             "ticks": ""
            },
            "colorscale": [
             [
              0,
              "#0d0887"
             ],
             [
              0.1111111111111111,
              "#46039f"
             ],
             [
              0.2222222222222222,
              "#7201a8"
             ],
             [
              0.3333333333333333,
              "#9c179e"
             ],
             [
              0.4444444444444444,
              "#bd3786"
             ],
             [
              0.5555555555555556,
              "#d8576b"
             ],
             [
              0.6666666666666666,
              "#ed7953"
             ],
             [
              0.7777777777777778,
              "#fb9f3a"
             ],
             [
              0.8888888888888888,
              "#fdca26"
             ],
             [
              1,
              "#f0f921"
             ]
            ],
            "type": "histogram2d"
           }
          ],
          "histogram2dcontour": [
           {
            "colorbar": {
             "outlinewidth": 0,
             "ticks": ""
            },
            "colorscale": [
             [
              0,
              "#0d0887"
             ],
             [
              0.1111111111111111,
              "#46039f"
             ],
             [
              0.2222222222222222,
              "#7201a8"
             ],
             [
              0.3333333333333333,
              "#9c179e"
             ],
             [
              0.4444444444444444,
              "#bd3786"
             ],
             [
              0.5555555555555556,
              "#d8576b"
             ],
             [
              0.6666666666666666,
              "#ed7953"
             ],
             [
              0.7777777777777778,
              "#fb9f3a"
             ],
             [
              0.8888888888888888,
              "#fdca26"
             ],
             [
              1,
              "#f0f921"
             ]
            ],
            "type": "histogram2dcontour"
           }
          ],
          "mesh3d": [
           {
            "colorbar": {
             "outlinewidth": 0,
             "ticks": ""
            },
            "type": "mesh3d"
           }
          ],
          "parcoords": [
           {
            "line": {
             "colorbar": {
              "outlinewidth": 0,
              "ticks": ""
             }
            },
            "type": "parcoords"
           }
          ],
          "pie": [
           {
            "automargin": true,
            "type": "pie"
           }
          ],
          "scatter": [
           {
            "fillpattern": {
             "fillmode": "overlay",
             "size": 10,
             "solidity": 0.2
            },
            "type": "scatter"
           }
          ],
          "scatter3d": [
           {
            "line": {
             "colorbar": {
              "outlinewidth": 0,
              "ticks": ""
             }
            },
            "marker": {
             "colorbar": {
              "outlinewidth": 0,
              "ticks": ""
             }
            },
            "type": "scatter3d"
           }
          ],
          "scattercarpet": [
           {
            "marker": {
             "colorbar": {
              "outlinewidth": 0,
              "ticks": ""
             }
            },
            "type": "scattercarpet"
           }
          ],
          "scattergeo": [
           {
            "marker": {
             "colorbar": {
              "outlinewidth": 0,
              "ticks": ""
             }
            },
            "type": "scattergeo"
           }
          ],
          "scattergl": [
           {
            "marker": {
             "colorbar": {
              "outlinewidth": 0,
              "ticks": ""
             }
            },
            "type": "scattergl"
           }
          ],
          "scattermapbox": [
           {
            "marker": {
             "colorbar": {
              "outlinewidth": 0,
              "ticks": ""
             }
            },
            "type": "scattermapbox"
           }
          ],
          "scatterpolar": [
           {
            "marker": {
             "colorbar": {
              "outlinewidth": 0,
              "ticks": ""
             }
            },
            "type": "scatterpolar"
           }
          ],
          "scatterpolargl": [
           {
            "marker": {
             "colorbar": {
              "outlinewidth": 0,
              "ticks": ""
             }
            },
            "type": "scatterpolargl"
           }
          ],
          "scatterternary": [
           {
            "marker": {
             "colorbar": {
              "outlinewidth": 0,
              "ticks": ""
             }
            },
            "type": "scatterternary"
           }
          ],
          "surface": [
           {
            "colorbar": {
             "outlinewidth": 0,
             "ticks": ""
            },
            "colorscale": [
             [
              0,
              "#0d0887"
             ],
             [
              0.1111111111111111,
              "#46039f"
             ],
             [
              0.2222222222222222,
              "#7201a8"
             ],
             [
              0.3333333333333333,
              "#9c179e"
             ],
             [
              0.4444444444444444,
              "#bd3786"
             ],
             [
              0.5555555555555556,
              "#d8576b"
             ],
             [
              0.6666666666666666,
              "#ed7953"
             ],
             [
              0.7777777777777778,
              "#fb9f3a"
             ],
             [
              0.8888888888888888,
              "#fdca26"
             ],
             [
              1,
              "#f0f921"
             ]
            ],
            "type": "surface"
           }
          ],
          "table": [
           {
            "cells": {
             "fill": {
              "color": "#EBF0F8"
             },
             "line": {
              "color": "white"
             }
            },
            "header": {
             "fill": {
              "color": "#C8D4E3"
             },
             "line": {
              "color": "white"
             }
            },
            "type": "table"
           }
          ]
         },
         "layout": {
          "annotationdefaults": {
           "arrowcolor": "#2a3f5f",
           "arrowhead": 0,
           "arrowwidth": 1
          },
          "autotypenumbers": "strict",
          "coloraxis": {
           "colorbar": {
            "outlinewidth": 0,
            "ticks": ""
           }
          },
          "colorscale": {
           "diverging": [
            [
             0,
             "#8e0152"
            ],
            [
             0.1,
             "#c51b7d"
            ],
            [
             0.2,
             "#de77ae"
            ],
            [
             0.3,
             "#f1b6da"
            ],
            [
             0.4,
             "#fde0ef"
            ],
            [
             0.5,
             "#f7f7f7"
            ],
            [
             0.6,
             "#e6f5d0"
            ],
            [
             0.7,
             "#b8e186"
            ],
            [
             0.8,
             "#7fbc41"
            ],
            [
             0.9,
             "#4d9221"
            ],
            [
             1,
             "#276419"
            ]
           ],
           "sequential": [
            [
             0,
             "#0d0887"
            ],
            [
             0.1111111111111111,
             "#46039f"
            ],
            [
             0.2222222222222222,
             "#7201a8"
            ],
            [
             0.3333333333333333,
             "#9c179e"
            ],
            [
             0.4444444444444444,
             "#bd3786"
            ],
            [
             0.5555555555555556,
             "#d8576b"
            ],
            [
             0.6666666666666666,
             "#ed7953"
            ],
            [
             0.7777777777777778,
             "#fb9f3a"
            ],
            [
             0.8888888888888888,
             "#fdca26"
            ],
            [
             1,
             "#f0f921"
            ]
           ],
           "sequentialminus": [
            [
             0,
             "#0d0887"
            ],
            [
             0.1111111111111111,
             "#46039f"
            ],
            [
             0.2222222222222222,
             "#7201a8"
            ],
            [
             0.3333333333333333,
             "#9c179e"
            ],
            [
             0.4444444444444444,
             "#bd3786"
            ],
            [
             0.5555555555555556,
             "#d8576b"
            ],
            [
             0.6666666666666666,
             "#ed7953"
            ],
            [
             0.7777777777777778,
             "#fb9f3a"
            ],
            [
             0.8888888888888888,
             "#fdca26"
            ],
            [
             1,
             "#f0f921"
            ]
           ]
          },
          "colorway": [
           "#636efa",
           "#EF553B",
           "#00cc96",
           "#ab63fa",
           "#FFA15A",
           "#19d3f3",
           "#FF6692",
           "#B6E880",
           "#FF97FF",
           "#FECB52"
          ],
          "font": {
           "color": "#2a3f5f"
          },
          "geo": {
           "bgcolor": "white",
           "lakecolor": "white",
           "landcolor": "#E5ECF6",
           "showlakes": true,
           "showland": true,
           "subunitcolor": "white"
          },
          "hoverlabel": {
           "align": "left"
          },
          "hovermode": "closest",
          "mapbox": {
           "style": "light"
          },
          "paper_bgcolor": "white",
          "plot_bgcolor": "#E5ECF6",
          "polar": {
           "angularaxis": {
            "gridcolor": "white",
            "linecolor": "white",
            "ticks": ""
           },
           "bgcolor": "#E5ECF6",
           "radialaxis": {
            "gridcolor": "white",
            "linecolor": "white",
            "ticks": ""
           }
          },
          "scene": {
           "xaxis": {
            "backgroundcolor": "#E5ECF6",
            "gridcolor": "white",
            "gridwidth": 2,
            "linecolor": "white",
            "showbackground": true,
            "ticks": "",
            "zerolinecolor": "white"
           },
           "yaxis": {
            "backgroundcolor": "#E5ECF6",
            "gridcolor": "white",
            "gridwidth": 2,
            "linecolor": "white",
            "showbackground": true,
            "ticks": "",
            "zerolinecolor": "white"
           },
           "zaxis": {
            "backgroundcolor": "#E5ECF6",
            "gridcolor": "white",
            "gridwidth": 2,
            "linecolor": "white",
            "showbackground": true,
            "ticks": "",
            "zerolinecolor": "white"
           }
          },
          "shapedefaults": {
           "line": {
            "color": "#2a3f5f"
           }
          },
          "ternary": {
           "aaxis": {
            "gridcolor": "white",
            "linecolor": "white",
            "ticks": ""
           },
           "baxis": {
            "gridcolor": "white",
            "linecolor": "white",
            "ticks": ""
           },
           "bgcolor": "#E5ECF6",
           "caxis": {
            "gridcolor": "white",
            "linecolor": "white",
            "ticks": ""
           }
          },
          "title": {
           "x": 0.05
          },
          "xaxis": {
           "automargin": true,
           "gridcolor": "white",
           "linecolor": "white",
           "ticks": "",
           "title": {
            "standoff": 15
           },
           "zerolinecolor": "white",
           "zerolinewidth": 2
          },
          "yaxis": {
           "automargin": true,
           "gridcolor": "white",
           "linecolor": "white",
           "ticks": "",
           "title": {
            "standoff": 15
           },
           "zerolinecolor": "white",
           "zerolinewidth": 2
          }
         }
        },
        "title": {
         "text": "Male Vs Female"
        }
       }
      },
      "text/html": [
       "<div>                            <div id=\"6869aaf3-c9ed-4429-9cc8-d9cdb1df20f6\" class=\"plotly-graph-div\" style=\"height:525px; width:100%;\"></div>            <script type=\"text/javascript\">                require([\"plotly\"], function(Plotly) {                    window.PLOTLYENV=window.PLOTLYENV || {};                                    if (document.getElementById(\"6869aaf3-c9ed-4429-9cc8-d9cdb1df20f6\")) {                    Plotly.newPlot(                        \"6869aaf3-c9ed-4429-9cc8-d9cdb1df20f6\",                        [{\"domain\":{\"x\":[0.0,1.0],\"y\":[0.0,1.0]},\"hovertemplate\":\"label=%{label}<br>value=%{value}<extra></extra>\",\"labels\":[\"Male\",\"Female\"],\"legendgroup\":\"\",\"name\":\"\",\"showlegend\":true,\"values\":[7138698858.0,6321628736.0],\"type\":\"pie\"}],                        {\"template\":{\"data\":{\"histogram2dcontour\":[{\"type\":\"histogram2dcontour\",\"colorbar\":{\"outlinewidth\":0,\"ticks\":\"\"},\"colorscale\":[[0.0,\"#0d0887\"],[0.1111111111111111,\"#46039f\"],[0.2222222222222222,\"#7201a8\"],[0.3333333333333333,\"#9c179e\"],[0.4444444444444444,\"#bd3786\"],[0.5555555555555556,\"#d8576b\"],[0.6666666666666666,\"#ed7953\"],[0.7777777777777778,\"#fb9f3a\"],[0.8888888888888888,\"#fdca26\"],[1.0,\"#f0f921\"]]}],\"choropleth\":[{\"type\":\"choropleth\",\"colorbar\":{\"outlinewidth\":0,\"ticks\":\"\"}}],\"histogram2d\":[{\"type\":\"histogram2d\",\"colorbar\":{\"outlinewidth\":0,\"ticks\":\"\"},\"colorscale\":[[0.0,\"#0d0887\"],[0.1111111111111111,\"#46039f\"],[0.2222222222222222,\"#7201a8\"],[0.3333333333333333,\"#9c179e\"],[0.4444444444444444,\"#bd3786\"],[0.5555555555555556,\"#d8576b\"],[0.6666666666666666,\"#ed7953\"],[0.7777777777777778,\"#fb9f3a\"],[0.8888888888888888,\"#fdca26\"],[1.0,\"#f0f921\"]]}],\"heatmap\":[{\"type\":\"heatmap\",\"colorbar\":{\"outlinewidth\":0,\"ticks\":\"\"},\"colorscale\":[[0.0,\"#0d0887\"],[0.1111111111111111,\"#46039f\"],[0.2222222222222222,\"#7201a8\"],[0.3333333333333333,\"#9c179e\"],[0.4444444444444444,\"#bd3786\"],[0.5555555555555556,\"#d8576b\"],[0.6666666666666666,\"#ed7953\"],[0.7777777777777778,\"#fb9f3a\"],[0.8888888888888888,\"#fdca26\"],[1.0,\"#f0f921\"]]}],\"heatmapgl\":[{\"type\":\"heatmapgl\",\"colorbar\":{\"outlinewidth\":0,\"ticks\":\"\"},\"colorscale\":[[0.0,\"#0d0887\"],[0.1111111111111111,\"#46039f\"],[0.2222222222222222,\"#7201a8\"],[0.3333333333333333,\"#9c179e\"],[0.4444444444444444,\"#bd3786\"],[0.5555555555555556,\"#d8576b\"],[0.6666666666666666,\"#ed7953\"],[0.7777777777777778,\"#fb9f3a\"],[0.8888888888888888,\"#fdca26\"],[1.0,\"#f0f921\"]]}],\"contourcarpet\":[{\"type\":\"contourcarpet\",\"colorbar\":{\"outlinewidth\":0,\"ticks\":\"\"}}],\"contour\":[{\"type\":\"contour\",\"colorbar\":{\"outlinewidth\":0,\"ticks\":\"\"},\"colorscale\":[[0.0,\"#0d0887\"],[0.1111111111111111,\"#46039f\"],[0.2222222222222222,\"#7201a8\"],[0.3333333333333333,\"#9c179e\"],[0.4444444444444444,\"#bd3786\"],[0.5555555555555556,\"#d8576b\"],[0.6666666666666666,\"#ed7953\"],[0.7777777777777778,\"#fb9f3a\"],[0.8888888888888888,\"#fdca26\"],[1.0,\"#f0f921\"]]}],\"surface\":[{\"type\":\"surface\",\"colorbar\":{\"outlinewidth\":0,\"ticks\":\"\"},\"colorscale\":[[0.0,\"#0d0887\"],[0.1111111111111111,\"#46039f\"],[0.2222222222222222,\"#7201a8\"],[0.3333333333333333,\"#9c179e\"],[0.4444444444444444,\"#bd3786\"],[0.5555555555555556,\"#d8576b\"],[0.6666666666666666,\"#ed7953\"],[0.7777777777777778,\"#fb9f3a\"],[0.8888888888888888,\"#fdca26\"],[1.0,\"#f0f921\"]]}],\"mesh3d\":[{\"type\":\"mesh3d\",\"colorbar\":{\"outlinewidth\":0,\"ticks\":\"\"}}],\"scatter\":[{\"fillpattern\":{\"fillmode\":\"overlay\",\"size\":10,\"solidity\":0.2},\"type\":\"scatter\"}],\"parcoords\":[{\"type\":\"parcoords\",\"line\":{\"colorbar\":{\"outlinewidth\":0,\"ticks\":\"\"}}}],\"scatterpolargl\":[{\"type\":\"scatterpolargl\",\"marker\":{\"colorbar\":{\"outlinewidth\":0,\"ticks\":\"\"}}}],\"bar\":[{\"error_x\":{\"color\":\"#2a3f5f\"},\"error_y\":{\"color\":\"#2a3f5f\"},\"marker\":{\"line\":{\"color\":\"#E5ECF6\",\"width\":0.5},\"pattern\":{\"fillmode\":\"overlay\",\"size\":10,\"solidity\":0.2}},\"type\":\"bar\"}],\"scattergeo\":[{\"type\":\"scattergeo\",\"marker\":{\"colorbar\":{\"outlinewidth\":0,\"ticks\":\"\"}}}],\"scatterpolar\":[{\"type\":\"scatterpolar\",\"marker\":{\"colorbar\":{\"outlinewidth\":0,\"ticks\":\"\"}}}],\"histogram\":[{\"marker\":{\"pattern\":{\"fillmode\":\"overlay\",\"size\":10,\"solidity\":0.2}},\"type\":\"histogram\"}],\"scattergl\":[{\"type\":\"scattergl\",\"marker\":{\"colorbar\":{\"outlinewidth\":0,\"ticks\":\"\"}}}],\"scatter3d\":[{\"type\":\"scatter3d\",\"line\":{\"colorbar\":{\"outlinewidth\":0,\"ticks\":\"\"}},\"marker\":{\"colorbar\":{\"outlinewidth\":0,\"ticks\":\"\"}}}],\"scattermapbox\":[{\"type\":\"scattermapbox\",\"marker\":{\"colorbar\":{\"outlinewidth\":0,\"ticks\":\"\"}}}],\"scatterternary\":[{\"type\":\"scatterternary\",\"marker\":{\"colorbar\":{\"outlinewidth\":0,\"ticks\":\"\"}}}],\"scattercarpet\":[{\"type\":\"scattercarpet\",\"marker\":{\"colorbar\":{\"outlinewidth\":0,\"ticks\":\"\"}}}],\"carpet\":[{\"aaxis\":{\"endlinecolor\":\"#2a3f5f\",\"gridcolor\":\"white\",\"linecolor\":\"white\",\"minorgridcolor\":\"white\",\"startlinecolor\":\"#2a3f5f\"},\"baxis\":{\"endlinecolor\":\"#2a3f5f\",\"gridcolor\":\"white\",\"linecolor\":\"white\",\"minorgridcolor\":\"white\",\"startlinecolor\":\"#2a3f5f\"},\"type\":\"carpet\"}],\"table\":[{\"cells\":{\"fill\":{\"color\":\"#EBF0F8\"},\"line\":{\"color\":\"white\"}},\"header\":{\"fill\":{\"color\":\"#C8D4E3\"},\"line\":{\"color\":\"white\"}},\"type\":\"table\"}],\"barpolar\":[{\"marker\":{\"line\":{\"color\":\"#E5ECF6\",\"width\":0.5},\"pattern\":{\"fillmode\":\"overlay\",\"size\":10,\"solidity\":0.2}},\"type\":\"barpolar\"}],\"pie\":[{\"automargin\":true,\"type\":\"pie\"}]},\"layout\":{\"autotypenumbers\":\"strict\",\"colorway\":[\"#636efa\",\"#EF553B\",\"#00cc96\",\"#ab63fa\",\"#FFA15A\",\"#19d3f3\",\"#FF6692\",\"#B6E880\",\"#FF97FF\",\"#FECB52\"],\"font\":{\"color\":\"#2a3f5f\"},\"hovermode\":\"closest\",\"hoverlabel\":{\"align\":\"left\"},\"paper_bgcolor\":\"white\",\"plot_bgcolor\":\"#E5ECF6\",\"polar\":{\"bgcolor\":\"#E5ECF6\",\"angularaxis\":{\"gridcolor\":\"white\",\"linecolor\":\"white\",\"ticks\":\"\"},\"radialaxis\":{\"gridcolor\":\"white\",\"linecolor\":\"white\",\"ticks\":\"\"}},\"ternary\":{\"bgcolor\":\"#E5ECF6\",\"aaxis\":{\"gridcolor\":\"white\",\"linecolor\":\"white\",\"ticks\":\"\"},\"baxis\":{\"gridcolor\":\"white\",\"linecolor\":\"white\",\"ticks\":\"\"},\"caxis\":{\"gridcolor\":\"white\",\"linecolor\":\"white\",\"ticks\":\"\"}},\"coloraxis\":{\"colorbar\":{\"outlinewidth\":0,\"ticks\":\"\"}},\"colorscale\":{\"sequential\":[[0.0,\"#0d0887\"],[0.1111111111111111,\"#46039f\"],[0.2222222222222222,\"#7201a8\"],[0.3333333333333333,\"#9c179e\"],[0.4444444444444444,\"#bd3786\"],[0.5555555555555556,\"#d8576b\"],[0.6666666666666666,\"#ed7953\"],[0.7777777777777778,\"#fb9f3a\"],[0.8888888888888888,\"#fdca26\"],[1.0,\"#f0f921\"]],\"sequentialminus\":[[0.0,\"#0d0887\"],[0.1111111111111111,\"#46039f\"],[0.2222222222222222,\"#7201a8\"],[0.3333333333333333,\"#9c179e\"],[0.4444444444444444,\"#bd3786\"],[0.5555555555555556,\"#d8576b\"],[0.6666666666666666,\"#ed7953\"],[0.7777777777777778,\"#fb9f3a\"],[0.8888888888888888,\"#fdca26\"],[1.0,\"#f0f921\"]],\"diverging\":[[0,\"#8e0152\"],[0.1,\"#c51b7d\"],[0.2,\"#de77ae\"],[0.3,\"#f1b6da\"],[0.4,\"#fde0ef\"],[0.5,\"#f7f7f7\"],[0.6,\"#e6f5d0\"],[0.7,\"#b8e186\"],[0.8,\"#7fbc41\"],[0.9,\"#4d9221\"],[1,\"#276419\"]]},\"xaxis\":{\"gridcolor\":\"white\",\"linecolor\":\"white\",\"ticks\":\"\",\"title\":{\"standoff\":15},\"zerolinecolor\":\"white\",\"automargin\":true,\"zerolinewidth\":2},\"yaxis\":{\"gridcolor\":\"white\",\"linecolor\":\"white\",\"ticks\":\"\",\"title\":{\"standoff\":15},\"zerolinecolor\":\"white\",\"automargin\":true,\"zerolinewidth\":2},\"scene\":{\"xaxis\":{\"backgroundcolor\":\"#E5ECF6\",\"gridcolor\":\"white\",\"linecolor\":\"white\",\"showbackground\":true,\"ticks\":\"\",\"zerolinecolor\":\"white\",\"gridwidth\":2},\"yaxis\":{\"backgroundcolor\":\"#E5ECF6\",\"gridcolor\":\"white\",\"linecolor\":\"white\",\"showbackground\":true,\"ticks\":\"\",\"zerolinecolor\":\"white\",\"gridwidth\":2},\"zaxis\":{\"backgroundcolor\":\"#E5ECF6\",\"gridcolor\":\"white\",\"linecolor\":\"white\",\"showbackground\":true,\"ticks\":\"\",\"zerolinecolor\":\"white\",\"gridwidth\":2}},\"shapedefaults\":{\"line\":{\"color\":\"#2a3f5f\"}},\"annotationdefaults\":{\"arrowcolor\":\"#2a3f5f\",\"arrowhead\":0,\"arrowwidth\":1},\"geo\":{\"bgcolor\":\"white\",\"landcolor\":\"#E5ECF6\",\"subunitcolor\":\"white\",\"showland\":true,\"showlakes\":true,\"lakecolor\":\"white\"},\"title\":{\"x\":0.05},\"mapbox\":{\"style\":\"light\"}}},\"legend\":{\"tracegroupgap\":0},\"title\":{\"text\":\"Male Vs Female\"}},                        {\"responsive\": true}                    ).then(function(){\n",
       "                            \n",
       "var gd = document.getElementById('6869aaf3-c9ed-4429-9cc8-d9cdb1df20f6');\n",
       "var x = new MutationObserver(function (mutations, observer) {{\n",
       "        var display = window.getComputedStyle(gd).display;\n",
       "        if (!display || display === 'none') {{\n",
       "            console.log([gd, 'removed!']);\n",
       "            Plotly.purge(gd);\n",
       "            observer.disconnect();\n",
       "        }}\n",
       "}});\n",
       "\n",
       "// Listen for the removal of the full notebook cells\n",
       "var notebookContainer = gd.closest('#notebook-container');\n",
       "if (notebookContainer) {{\n",
       "    x.observe(notebookContainer, {childList: true});\n",
       "}}\n",
       "\n",
       "// Listen for the clearing of the current output cell\n",
       "var outputEl = gd.closest('.output');\n",
       "if (outputEl) {{\n",
       "    x.observe(outputEl, {childList: true});\n",
       "}}\n",
       "\n",
       "                        })                };                });            </script>        </div>"
      ]
     },
     "metadata": {},
     "output_type": "display_data"
    }
   ],
   "source": [
    "#Piechart for Male and Female vaccinated\n",
    "\n",
    "male = vacc['Male(Individuals Vaccinated)'].sum()\n",
    "female = vacc['Female(Individuals Vaccinated)'].sum()\n",
    "px.pie(names= ['Male','Female'],values=[male,female],title= 'Male Vs Female')\n"
   ]
  }
 ],
 "metadata": {
  "kernelspec": {
   "display_name": "Python 3 (ipykernel)",
   "language": "python",
   "name": "python3"
  },
  "language_info": {
   "codemirror_mode": {
    "name": "ipython",
    "version": 3
   },
   "file_extension": ".py",
   "mimetype": "text/x-python",
   "name": "python",
   "nbconvert_exporter": "python",
   "pygments_lexer": "ipython3",
   "version": "3.8.5"
  }
 },
 "nbformat": 4,
 "nbformat_minor": 5
}
